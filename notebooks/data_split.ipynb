{
 "cells": [
  {
   "cell_type": "code",
   "execution_count": null,
   "id": "0f1b389c",
   "metadata": {},
   "outputs": [],
   "source": [
    "from dotenv import load_dotenv\n",
    "\n",
    "from src.extraction.data_loader import create_dataloaders\n",
    "from src.extraction.downloader import download_dataset"
   ]
  },
  {
   "cell_type": "code",
   "execution_count": null,
   "id": "de75ae19",
   "metadata": {},
   "outputs": [],
   "source": [
    "load_dotenv()\n",
    "download_dataset(dir='dataset')\n",
    "\n",
    "features_dir = 'dataset/features'\n",
    "split_csv_path = 'dataset/label_split.csv'\n",
    "# A dict of DataLoaders: {'train', 'val', 'test_seen', 'test_unseen'}\n",
    "dataloaders = create_dataloaders(features_dir, split_csv_path)"
   ]
  }
 ],
 "metadata": {
  "kernelspec": {
   "display_name": "Few-shot-Fraud-Pattern-Recognition",
   "language": "python",
   "name": "python3"
  },
  "language_info": {
   "codemirror_mode": {
    "name": "ipython",
    "version": 3
   },
   "file_extension": ".py",
   "mimetype": "text/x-python",
   "name": "python",
   "nbconvert_exporter": "python",
   "pygments_lexer": "ipython3",
   "version": "3.13.1"
  }
 },
 "nbformat": 4,
 "nbformat_minor": 5
}
